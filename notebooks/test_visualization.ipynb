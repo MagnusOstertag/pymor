{
 "cells": [
  {
   "cell_type": "code",
   "execution_count": 1,
   "metadata": {
    "pycharm": {
     "is_executing": false
    }
   },
   "outputs": [
    {
     "data": {
      "application/vnd.jupyter.widget-view+json": {
       "model_id": "bb15696cad194e50b1449e62a7e384ad",
       "version_major": 2,
       "version_minor": 0
      },
      "text/plain": [
       "Accordion(children=(HTML(value='', layout=Layout(height='16em', overflow_y='auto', width='100%')),), selected_…"
      ]
     },
     "metadata": {},
     "output_type": "display_data"
    },
    {
     "data": {
      "application/vnd.jupyter.widget-view+json": {
       "model_id": "8f94b32ef8a54e1987342ae3761b3d92",
       "version_major": 2,
       "version_minor": 0
      },
      "text/plain": [
       "ThreeJSPlot(children=(HBox(children=(Renderer(children=(Renderer(camera=PerspectiveCamera(position=(0.0, 0.0, …"
      ]
     },
     "metadata": {},
     "output_type": "display_data"
    }
   ],
   "source": [
    "from pymor.basic import *\n",
    "set_defaults({'pymor.discretizers.builtin.gui.jupyter.get_visualizer.backend': 'py3js'})\n",
    "p = burgers_problem_2d()\n",
    "d, _ = discretize_instationary_fv(p, num_flux='simplified_engquist_osher', diameter=1/50, nt=100, num_values=20, grid_type=RectGrid)\n",
    "U = d.solve(2.)\n",
    "plot = d.visualize(U)"
   ]
  },
  {
   "cell_type": "code",
   "execution_count": null,
   "metadata": {},
   "outputs": [],
   "source": [
    "r0 =plot.renderer[0]\n",
    "print(r0.tracks[0])\n",
    "print()\n",
    "r0.action[0]\n",
    "\n",
    "plot.play()\n"
   ]
  }
 ],
 "metadata": {
  "kernelspec": {
   "display_name": "Python 3",
   "language": "python",
   "name": "python3"
  },
  "language_info": {
   "codemirror_mode": {
    "name": "ipython",
    "version": 3
   },
   "file_extension": ".py",
   "mimetype": "text/x-python",
   "name": "python",
   "nbconvert_exporter": "python",
   "pygments_lexer": "ipython3",
   "version": "3.7.6"
  }
 },
 "nbformat": 4,
 "nbformat_minor": 2
}
